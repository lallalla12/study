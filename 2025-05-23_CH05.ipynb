{
 "cells": [
  {
   "cell_type": "code",
   "execution_count": 1,
   "id": "d0057195-31a4-4983-a9cd-b8a209281eb5",
   "metadata": {},
   "outputs": [
    {
     "name": "stdout",
     "output_type": "stream",
     "text": [
      "Requirement already satisfied: numpy in c:\\users\\gtex\\anaconda3\\lib\\site-packages (1.26.4)\n",
      "Note: you may need to restart the kernel to use updated packages.\n"
     ]
    }
   ],
   "source": [
    "pip install numpy"
   ]
  },
  {
   "cell_type": "code",
   "execution_count": 22,
   "id": "0ea7d1a2-c342-4f9a-a024-b7c85e0e98b6",
   "metadata": {},
   "outputs": [
    {
     "name": "stdout",
     "output_type": "stream",
     "text": [
      "30\n",
      "5.0\n",
      "10\n",
      "0\n",
      "11.666666666666666\n",
      "3.415650255319866\n",
      "[1 2 3]\n",
      "[1.2 2.3 3.5]\n",
      "[[1 2 3]\n",
      " [4 5 6]]\n"
     ]
    }
   ],
   "source": [
    "import numpy as np\n",
    "\n",
    "# 0~10까지 2씩 증가한 결과를 arr변수에 저장\n",
    "arr = np.arange(0,11,2)\n",
    "\n",
    "print(np.sum(arr)) # 0, 2, 4, 6, 8, 10 값 합계\n",
    "print(np.mean(arr)) # 0, 2, 4, 6, 8, 10 값 평균\n",
    "print(np.max(arr)) # 0, 2, 4, 6, 8, 10 값 중 가장 큰 값\n",
    "print(np.min(arr)) # 0, 2, 4, 6, 8, 10 값 중 가장 작은 값\n",
    "print(np.var(arr)) # 0, 2, 4, 6, 8, 10 분산\n",
    "print(np.std(arr)) # 0, 2, 4, 6, 8, 10 값 표준편차\n",
    "# 리스트 자료형에 저장되어 있는 값을 합계와 평균을 계산하기 위해서는 numpy자료형으로 저장 \n",
    "arr1 = np.array([1,2,3])\n",
    "arr2 = np.array([1.2,2.3,3.5])\n",
    "arr3 = np.array([[1,2,3],[4,5,6]])\n",
    "\n",
    "print(arr1)\n",
    "print(arr2)\n",
    "print(arr3)"
   ]
  },
  {
   "cell_type": "code",
   "execution_count": 30,
   "id": "2ab817ca-91f1-4cde-aa2a-b81a65fe86db",
   "metadata": {},
   "outputs": [
    {
     "data": {
      "text/plain": [
       "[0, 2, 4, 6, 8, 10]"
      ]
     },
     "execution_count": 30,
     "metadata": {},
     "output_type": "execute_result"
    }
   ],
   "source": [
    "# 리스트 0~10까지 2만큼 증가하는 항목을 갖는 리스트\n",
    "n = list(range(0,11,2))\n",
    "n"
   ]
  },
  {
   "cell_type": "code",
   "execution_count": 24,
   "id": "a2b8205f-b313-4c2a-a9c8-fdc218907a09",
   "metadata": {},
   "outputs": [
    {
     "name": "stdout",
     "output_type": "stream",
     "text": [
      "<class 'list'>\n",
      "<class 'numpy.ndarray'>\n",
      "[1 2 3 4 5 6 7 8 9]\n",
      "[0.  0.3 0.6 0.9]\n"
     ]
    },
    {
     "data": {
      "text/plain": [
       "[2, 4, 6, 8, 10, 12]"
      ]
     },
     "execution_count": 24,
     "metadata": {},
     "output_type": "execute_result"
    }
   ],
   "source": [
    "# 타입을 출력\n",
    "lst = [1,2,3]\n",
    "arr = np.array(lst)\n",
    "print(type(lst))\n",
    "print(type(arr))\n",
    "\n",
    "arr4 = np.arange(1,10)\n",
    "arr5 = np.linspace(0,0.9,4)   # 0~0.9를 4등분\n",
    "\n",
    "print(arr4)\n",
    "print(arr5)\n",
    "\n",
    "# 0~10까지 2씩 증가하는 리스트 n\n",
    "n = list(range(0,11,2))\n",
    "\n",
    "# n의 각 항목을 2만큼 증가\n",
    "for i in range(len(n)):\n",
    "    n[i] = n[i] + 2\n",
    "n\n"
   ]
  },
  {
   "cell_type": "code",
   "execution_count": 29,
   "id": "bef23d7d-e4e2-4b11-98f7-09a4b17026eb",
   "metadata": {},
   "outputs": [
    {
     "name": "stdout",
     "output_type": "stream",
     "text": [
      "[1.1 2.1 3.1]\n",
      "[1.  1.2 1.4 1.6 1.8 2. ]\n"
     ]
    }
   ],
   "source": [
    "# 0부터 1까지 0.2씩 증가하는 항목\n",
    "arr1 = np.arange(0,1.1,0.2)\n",
    "# 6개의 1을 갖는 배열\n",
    "arr2 = np.ones(6)\n",
    "\n",
    "print(arr + 0.1)\n",
    "print(arr1 + arr2)\n"
   ]
  },
  {
   "cell_type": "code",
   "execution_count": 21,
   "id": "3b70ec45-060f-47b5-9b7b-1a6912ed5b5c",
   "metadata": {},
   "outputs": [
    {
     "name": "stdout",
     "output_type": "stream",
     "text": [
      "[0. 0. 0.]\n",
      "[0 0 0]\n",
      "[[1. 1.]\n",
      " [1. 1.]]\n",
      "[1.40845691 1.42963398]\n"
     ]
    }
   ],
   "source": [
    "# zeros : 3만큼  0으로 초기화된 배열 생성\n",
    "arr6 = np.zeros(3)\n",
    "print(arr6)\n",
    "arr7 = np.zeros(3, dtype = \"int\")\n",
    "print(arr7)\n",
    "\n",
    "# 2만큼 1로 초기화된 배열 생성\n",
    "arr8 = np.ones([2,2])\n",
    "print(arr8)\n",
    "\n",
    "# 2 형태로 초기화하지 않은 배열 생성\n",
    "arr9 = np.empty(2)\n",
    "print(arr9)"
   ]
  },
  {
   "cell_type": "code",
   "execution_count": 48,
   "id": "e3b80baa-3744-4bc7-bd1a-8cd6cda1c427",
   "metadata": {},
   "outputs": [
    {
     "name": "stdout",
     "output_type": "stream",
     "text": [
      "[1 2 3]\n",
      "[1.2 2.3 3.5]\n",
      "[[1 2 3]\n",
      " [4 5 6]]\n"
     ]
    }
   ],
   "source": [
    "# 넘파이의 array()를 사용하여 넘파이 배열 생성하기\n",
    "arr1 = np.array([1,2,3])\n",
    "arr2 = np.array([1.2,2.3,3.5])\n",
    "arr3 = np.array([[1,2,3],[4,5,6]])\n",
    "\n",
    "print(arr1)\n",
    "print(arr2)\n",
    "print(arr3)"
   ]
  },
  {
   "cell_type": "code",
   "execution_count": 53,
   "id": "acfe568a-1ec3-4626-a0d3-58c3a823ad93",
   "metadata": {},
   "outputs": [
    {
     "name": "stdout",
     "output_type": "stream",
     "text": [
      "[1 2 3 4 5 6 7 8 9]\n",
      "[1 3 5 7 9]\n",
      "[0.  0.3 0.6 0.9]\n"
     ]
    }
   ],
   "source": [
    "# arange()/linspace()를 사용하여 배열 생성하기\n",
    "arr1 = np.arange(1,10)\n",
    "arr2 = np.arange(1,10,2)\n",
    "arr3 = np.linspace(0,0.9,4)\n",
    "\n",
    "print(arr1)\n",
    "print(arr2)\n",
    "print(arr3)"
   ]
  },
  {
   "cell_type": "code",
   "execution_count": 56,
   "id": "00f51e7f-ded3-4cc0-8f2e-dffa03dcf577",
   "metadata": {},
   "outputs": [
    {
     "name": "stdout",
     "output_type": "stream",
     "text": [
      "[0. 0. 0.]\n",
      "[[0 0 0]\n",
      " [0 0 0]]\n",
      "[[1. 1.]\n",
      " [1. 1.]]\n",
      "[0.3 0.6]\n"
     ]
    }
   ],
   "source": [
    "# zeros()/ ones()/ empty()를 사용하여 배열 생성\n",
    "\n",
    "arr1 = np.zeros(3)\n",
    "arr2 = np.zeros([2,3], dtype=int)\n",
    "arr3 = np.ones([2,2])\n",
    "arr4 = np.empty(2)\n",
    "\n",
    "print(arr1)\n",
    "print(arr2)\n",
    "print(arr3)\n",
    "# 메모리에 있는 임의의 값이 출력되기 때문에 결과가 다 다름\n",
    "print(arr4)\n"
   ]
  },
  {
   "cell_type": "code",
   "execution_count": 20,
   "id": "3f595520-bccd-45a5-a425-faf506cf07c9",
   "metadata": {},
   "outputs": [
    {
     "name": "stdout",
     "output_type": "stream",
     "text": [
      "[0.20870645 0.72011226]\n",
      "[-1.40845691 -1.42963398]\n",
      "[6 2 4]\n",
      "[[8 3]\n",
      " [9 0]]\n"
     ]
    }
   ],
   "source": [
    "# rand() / randn() / randint()를 사용하여 배열 생성\n",
    "\n",
    "# 0~1 사이의 랜덤값\n",
    "arr10 = np.random.rand(2)\n",
    "\n",
    "# 분산 결과의 값을 랜덤값\n",
    "arr11 = np.random.randn(2)\n",
    "\n",
    "# 1~10 사의의 랜덤값, 그 결과는 3가지\n",
    "arr12 = np.random.randint(1,10,size=3)\n",
    "# 0~10 사의의 랜덤값, 2행 2열의 2차원으로 결과\n",
    "arr13 = np.random.randint(10,size=(2,2))\n",
    "\n",
    "print(arr10)\n",
    "print(arr11)\n",
    "print(arr12)\n",
    "print(arr13)"
   ]
  },
  {
   "cell_type": "code",
   "execution_count": 57,
   "id": "02f59d71-c0e6-4568-baee-05684239e4eb",
   "metadata": {},
   "outputs": [
    {
     "name": "stdout",
     "output_type": "stream",
     "text": [
      "[[1. 1. 1. 1.]\n",
      " [1. 1. 1. 1.]\n",
      " [1. 1. 1. 1.]]\n",
      "12\n",
      "float64\n",
      "(3, 4)\n",
      "2\n"
     ]
    }
   ],
   "source": [
    "# 항목값이 모두 1인 2차원 배열을 생성하고 그 배열의 속성값 출력하기\n",
    "\n",
    "arr1 = np.ones([3,4])\n",
    "\n",
    "print(arr1)\n",
    "print(arr1.size)\n",
    "print(arr1.dtype)\n",
    "print(arr1.shape)\n",
    "print(arr1.ndim)"
   ]
  },
  {
   "cell_type": "code",
   "execution_count": 59,
   "id": "985b7b99-5be1-4331-a4fc-844a7450bda3",
   "metadata": {},
   "outputs": [
    {
     "name": "stdout",
     "output_type": "stream",
     "text": [
      "[1 2 3]\n",
      "3\n",
      "[[4 5 6]\n",
      " [7 8 9]]\n",
      "[6 7 8 9]\n"
     ]
    }
   ],
   "source": [
    "# 2차원 배열을 생성하고 인덱싱과 슬라이싱을 사용하여 배열의 일부분만 출력\n",
    "\n",
    "arr1 = np.array([[1,2,3],\n",
    "                 [4,5,6],\n",
    "                 [7,8,9]])\n",
    "print(arr1[0])\n",
    "print(arr1[0,2])\n",
    "print(arr1[1:])\n",
    "print(arr1[arr1>5])\n"
   ]
  },
  {
   "cell_type": "code",
   "execution_count": 66,
   "id": "0b9e5495-10c9-4705-9876-9c19c8e300a0",
   "metadata": {},
   "outputs": [
    {
     "name": "stdout",
     "output_type": "stream",
     "text": [
      "[[1 2 3]\n",
      " [4 5 6]] \n",
      "\n",
      "[[1 4]\n",
      " [2 5]\n",
      " [3 6]] \n",
      "\n",
      "[[1 2]\n",
      " [3 4]\n",
      " [5 6]] \n",
      "\n",
      "[1 2 3 4 5 6] \n",
      "\n"
     ]
    }
   ],
   "source": [
    "# 배열 항목의 행/열을 서로 교환한 배열, \n",
    "# 3행 2열 형태로 재구성한 배열, \n",
    "# 1차원 배열로 재구성한 배열을 생성하여 출력하기\n",
    "\n",
    "arr = np.array([[1,2,3], [4,5,6]])\n",
    "\n",
    "arr_T = arr.transpose()\n",
    "arr_R = arr.reshape(3,2)\n",
    "arr_F = arr.flatten()\n",
    "\n",
    "print(arr,\"\\n\")\n",
    "print(arr_T,\"\\n\")\n",
    "print(arr_R,\"\\n\")\n",
    "print(arr_F,\"\\n\")\n"
   ]
  },
  {
   "cell_type": "code",
   "execution_count": 68,
   "id": "700e2a3c-b306-44cc-a5b7-8e5e41c80f7a",
   "metadata": {},
   "outputs": [
    {
     "name": "stdout",
     "output_type": "stream",
     "text": [
      "[1 2 3 4] [1. 1. 1. 1.]\n",
      "[2. 3. 4. 5.]\n",
      "[0. 1. 2. 3.]\n",
      "[False  True  True  True]\n"
     ]
    }
   ],
   "source": [
    "# 두 배열에 대한 덧셈,뺄셈,크기 비교 연사나 결과를 출력\n",
    "arr1 = np.arange(1,5)\n",
    "arr2 = np.ones(4)\n",
    "\n",
    "print(arr1, arr2)\n",
    "print(arr1 + arr2)\n",
    "print(arr1 - arr2)\n",
    "print(arr1 > arr2)"
   ]
  },
  {
   "cell_type": "code",
   "execution_count": 69,
   "id": "47741877-23e9-4e1f-be77-20e0a711d6d6",
   "metadata": {},
   "outputs": [
    {
     "name": "stdout",
     "output_type": "stream",
     "text": [
      "[6 0 6 2]\n",
      "[8 2 8 4]\n",
      "[12  0 12  4]\n"
     ]
    }
   ],
   "source": [
    "# 배열에 2를 더하고 2를 곱한 결과 출력\n",
    "\n",
    "arr1 = np.random.randint(11, size=4)\n",
    "\n",
    "print(arr1)\n",
    "print(arr1 + 2)\n",
    "print(arr1 * 2)"
   ]
  },
  {
   "cell_type": "code",
   "execution_count": 70,
   "id": "a2d90f01-a01e-4213-814f-93160089c2d8",
   "metadata": {},
   "outputs": [
    {
     "name": "stdout",
     "output_type": "stream",
     "text": [
      "[-5  2  2 -4 -6]\n",
      "-6\n",
      "2\n",
      "-11\n",
      "-2.2\n",
      "12.16\n",
      "3.4871191548325386\n"
     ]
    }
   ],
   "source": [
    "# 배열의 항목들 중에서 최솟값과 최댓값을 출력하고, \n",
    "# 항목들의 합계와 산술평균, 분산,표준편차를 계산한 결과 출력\n",
    "\n",
    "arr1= np.random.randint(-10, 11, size=5)\n",
    "\n",
    "print(arr1)\n",
    "print(np.min(arr1))\n",
    "print(np.max(arr1))\n",
    "print(np.sum(arr1))\n",
    "print(np.mean(arr1))\n",
    "print(np.var(arr1))\n",
    "print(np.std(arr1))"
   ]
  },
  {
   "cell_type": "code",
   "execution_count": 77,
   "id": "dd67189e-2e49-470e-8e1f-d7aafbc5d5de",
   "metadata": {},
   "outputs": [
    {
     "name": "stdout",
     "output_type": "stream",
     "text": [
      "[20 30 60]\n",
      "[60 40 90]\n",
      "[ 80  70 150]\n",
      "[40. 35. 75.]\n",
      "36.666666666666664\n"
     ]
    }
   ],
   "source": [
    "# 넘파이 배열의 연산 연습\n",
    "\n",
    "국어 = np.array([20,30,60])\n",
    "영어 = np.array([60,40,90])\n",
    "\n",
    "print(국어)\n",
    "print(영어)\n",
    "\n",
    "총점 = 국어 + 영어\n",
    "평균 = 총점 / 2\n",
    "\n",
    "print(총점)\n",
    "print(평균)\n",
    "\n",
    "print(np.mean(국어))"
   ]
  },
  {
   "cell_type": "code",
   "execution_count": 46,
   "id": "b046f66d-d31d-42cc-be13-1d96f8349493",
   "metadata": {},
   "outputs": [
    {
     "name": "stdout",
     "output_type": "stream",
     "text": [
      "1번 [ 2  4  6  8 10 12]\n",
      "3번 [ 5 10 15 20 25]\n",
      "5번 [[1 2 3]\n",
      " [4 5 6]\n",
      " [7 8 9]]\n",
      "5-1번 [4 5 6]\n",
      "5-2번 9\n",
      "5-3번 [[4 5 6]\n",
      " [7 8 9]]\n",
      "5-4번 [1 2 3 4 5]\n"
     ]
    }
   ],
   "source": [
    "# page102 연습문제\n",
    "# 1.\n",
    "arr2 = np.array([[1,2,3],[4,5,6]])\n",
    "arr2 = arr2.flatten()*2\n",
    "print(\"1번\", arr2)\n",
    "\n",
    "#3.\n",
    "arr = np.arange(5,30,5)\n",
    "print(\"3번\", arr)\n",
    "\n",
    "#5.\n",
    "arr1 = np.array([[1,2,3],[4,5,6],[7,8,9]])\n",
    "print(\"5번\",arr1)\n",
    "\n",
    "print(\"5-1번\",arr1[1])\n",
    "print(\"5-2번\",arr1[2,2])\n",
    "print(\"5-3번\",arr1[1:3])\n",
    "print(\"5-4번\",arr1[arr1 <= 5])"
   ]
  },
  {
   "cell_type": "code",
   "execution_count": 47,
   "id": "12da05f2-8d46-41a7-86e8-5d5083449ba0",
   "metadata": {},
   "outputs": [
    {
     "name": "stdout",
     "output_type": "stream",
     "text": [
      "Requirement already satisfied: pandas in c:\\users\\gtex\\anaconda3\\lib\\site-packages (2.2.2)\n",
      "Requirement already satisfied: numpy>=1.26.0 in c:\\users\\gtex\\anaconda3\\lib\\site-packages (from pandas) (1.26.4)\n",
      "Requirement already satisfied: python-dateutil>=2.8.2 in c:\\users\\gtex\\anaconda3\\lib\\site-packages (from pandas) (2.9.0.post0)\n",
      "Requirement already satisfied: pytz>=2020.1 in c:\\users\\gtex\\anaconda3\\lib\\site-packages (from pandas) (2024.1)\n",
      "Requirement already satisfied: tzdata>=2022.7 in c:\\users\\gtex\\anaconda3\\lib\\site-packages (from pandas) (2023.3)\n",
      "Requirement already satisfied: six>=1.5 in c:\\users\\gtex\\anaconda3\\lib\\site-packages (from python-dateutil>=2.8.2->pandas) (1.16.0)\n",
      "Note: you may need to restart the kernel to use updated packages.\n"
     ]
    }
   ],
   "source": [
    "pip install pandas"
   ]
  }
 ],
 "metadata": {
  "kernelspec": {
   "display_name": "Python 3 (ipykernel)",
   "language": "python",
   "name": "python3"
  },
  "language_info": {
   "codemirror_mode": {
    "name": "ipython",
    "version": 3
   },
   "file_extension": ".py",
   "mimetype": "text/x-python",
   "name": "python",
   "nbconvert_exporter": "python",
   "pygments_lexer": "ipython3",
   "version": "3.12.7"
  }
 },
 "nbformat": 4,
 "nbformat_minor": 5
}
