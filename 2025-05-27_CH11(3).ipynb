{
 "cells": [
  {
   "cell_type": "code",
   "execution_count": 10,
   "id": "6a78dec0-c277-425f-b10a-f3bacaeed9d8",
   "metadata": {},
   "outputs": [
    {
     "name": "stderr",
     "output_type": "stream",
     "text": [
      "C:\\Users\\Public\\Documents\\ESTsoft\\CreatorTemp\\ipykernel_11128\\1840727973.py:14: FutureWarning: Downcasting behavior in `replace` is deprecated and will be removed in a future version. To retain the old behavior, explicitly call `result.infer_objects(copy=False)`. To opt-in to the future behavior, set `pd.set_option('future.no_silent_downcasting', True)`\n",
      "  df.replace({'fruit' : {'사과':0, '배':1, '복숭아':2}}, inplace=True)\n",
      "C:\\Users\\Public\\Documents\\ESTsoft\\CreatorTemp\\ipykernel_11128\\1840727973.py:17: FutureWarning: Downcasting behavior in `replace` is deprecated and will be removed in a future version. To retain the old behavior, explicitly call `result.infer_objects(copy=False)`. To opt-in to the future behavior, set `pd.set_option('future.no_silent_downcasting', True)`\n",
      "  df_test.replace({'fruit':{'사과':0, '배':1, '복숭아':2}}, inplace=True)\n"
     ]
    }
   ],
   "source": [
    "# 모델 생성 및 예측\n",
    "# 모듈 import\n",
    "import pandas as pd\n",
    "import numpy as np\n",
    "import matplotlib.pyplot as plt\n",
    "import seaborn as sns\n",
    "from sklearn.tree import DecisionTreeClassifier\n",
    "from sklearn.neighbors import KNeighborsClassifier\n",
    "from sklearn.ensemble import RandomForestClassifier\n",
    "\n",
    "#데이터 가져오기\n",
    "df = pd.read_excel('사과배복숭아-학습.xlsx')\n",
    "df.fillna(0, inplace=True)\n",
    "df.replace({'fruit' : {'사과':0, '배':1, '복숭아':2}}, inplace=True)\n",
    "df_test = pd.read_excel('사과배복숭아-테스트.xlsx')\n",
    "df_test.fillna(0, inplace=True)\n",
    "df_test.replace({'fruit':{'사과':0, '배':1, '복숭아':2}}, inplace=True)\n",
    "\n",
    "x_train = df.iloc[:, 1:]\n",
    "y_train = df.iloc[:,0]\n",
    "x_test = df_test.iloc[:, 1:]\n",
    "y_test = df_test.iloc[:, 0]\n",
    "\n",
    "#의사결정 트리 알고리즘 모델\n",
    "tr_model = DecisionTreeClassifier(random_state=0)\n",
    "tr_model.fit(x_train, y_train)\n",
    "tr_prd = tr_model.predict(x_test)\n",
    "\n",
    "kn_model = KNeighborsClassifier(n_neighbors=5)\n",
    "kn_model.fit(x_train, y_train)\n",
    "kn_prd = kn_model.predict(x_test)\n",
    "\n",
    "rf_model=RandomForestClassifier(n_estimators=7)\n",
    "rf_model.fit(x_train,y_train)\n",
    "rf_prd = rf_model.predict(x_test)"
   ]
  },
  {
   "cell_type": "code",
   "execution_count": 12,
   "id": "dc707133-9eb2-41e8-9968-b066b28bdd8f",
   "metadata": {},
   "outputs": [
    {
     "name": "stdout",
     "output_type": "stream",
     "text": [
      "10 10 10\n",
      "==의사결정 트리 모델==\n",
      "정확도: 0.9\n",
      "재현율: [1.   1.   0.75]\n",
      "정밀도: [0.75 1.   1.  ]\n",
      "==K 최근접 이웃 모델==\n",
      "정확도: 0.8\n",
      "재현율: [0.66666667 1.         0.75      ]\n",
      "정밀도: [0.66666667 1.         0.75      ]\n",
      "==랜덤 포레스트 모델==\n",
      "정확도: 0.9\n",
      "재현율: [1.   1.   0.75]\n",
      "정밀도: [0.75 1.   1.  ]\n"
     ]
    }
   ],
   "source": [
    "from sklearn.metrics import accuracy_score\n",
    "from sklearn.metrics import recall_score, precision_score\n",
    "print(len(x_test), len(y_test), len(tr_prd))\n",
    "\n",
    "tr_prd = tr_model.predict(x_test)\n",
    "print(\"==의사결정 트리 모델==\")\n",
    "print('정확도:' ,accuracy_score(y_test, tr_prd))\n",
    "print('재현율:' ,recall_score(y_test, tr_prd, average=None))\n",
    "print('정밀도:' ,precision_score(y_test, tr_prd, average=None))\n",
    "\n",
    "print(\"==K 최근접 이웃 모델==\")\n",
    "print('정확도:' ,accuracy_score(y_test, kn_prd))\n",
    "print('재현율:' ,recall_score(y_test, kn_prd, average=None))\n",
    "print('정밀도:' ,precision_score(y_test, kn_prd, average=None))\n",
    "\n",
    "print(\"==랜덤 포레스트 모델==\")\n",
    "print('정확도:' ,accuracy_score(y_test, rf_prd))\n",
    "print('재현율:' ,recall_score(y_test, rf_prd, average=None))\n",
    "print('정밀도:' ,precision_score(y_test, rf_prd, average=None))"
   ]
  }
 ],
 "metadata": {
  "kernelspec": {
   "display_name": "Python 3 (ipykernel)",
   "language": "python",
   "name": "python3"
  },
  "language_info": {
   "codemirror_mode": {
    "name": "ipython",
    "version": 3
   },
   "file_extension": ".py",
   "mimetype": "text/x-python",
   "name": "python",
   "nbconvert_exporter": "python",
   "pygments_lexer": "ipython3",
   "version": "3.12.7"
  }
 },
 "nbformat": 4,
 "nbformat_minor": 5
}
