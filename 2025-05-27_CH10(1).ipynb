{
 "cells": [
  {
   "cell_type": "code",
   "execution_count": 3,
   "id": "054be178-e45e-45a8-9d86-d909c80a0ce8",
   "metadata": {},
   "outputs": [
    {
     "name": "stdout",
     "output_type": "stream",
     "text": [
      "Requirement already satisfied: scikit-learn in c:\\users\\gtex\\anaconda3\\lib\\site-packages (1.5.1)\n",
      "Requirement already satisfied: numpy>=1.19.5 in c:\\users\\gtex\\anaconda3\\lib\\site-packages (from scikit-learn) (1.26.4)\n",
      "Requirement already satisfied: scipy>=1.6.0 in c:\\users\\gtex\\anaconda3\\lib\\site-packages (from scikit-learn) (1.13.1)\n",
      "Requirement already satisfied: joblib>=1.2.0 in c:\\users\\gtex\\anaconda3\\lib\\site-packages (from scikit-learn) (1.4.2)\n",
      "Requirement already satisfied: threadpoolctl>=3.1.0 in c:\\users\\gtex\\anaconda3\\lib\\site-packages (from scikit-learn) (3.5.0)\n",
      "Note: you may need to restart the kernel to use updated packages.\n"
     ]
    }
   ],
   "source": [
    "pip install scikit-learn "
   ]
  },
  {
   "cell_type": "code",
   "execution_count": 10,
   "id": "75fa3cbe-9450-4f41-8b65-baa325f853f0",
   "metadata": {},
   "outputs": [
    {
     "name": "stdout",
     "output_type": "stream",
     "text": [
      "Name: scikit-learnNote: you may need to restart the kernel to use updated packages.\n",
      "\n",
      "Version: 1.5.1\n",
      "Summary: A set of python modules for machine learning and data mining\n",
      "Home-page: https://scikit-learn.org\n",
      "Author: \n",
      "Author-email: \n",
      "License: new BSD\n",
      "Location: C:\\Users\\GTEX\\anaconda3\\Lib\\site-packages\n",
      "Requires: joblib, numpy, scipy, threadpoolctl\n",
      "Required-by: imbalanced-learn\n"
     ]
    }
   ],
   "source": [
    "pip show scikit-learn"
   ]
  },
  {
   "cell_type": "code",
   "execution_count": 11,
   "id": "7abc2811-ea0e-46f9-9f94-c3bb0bce6a56",
   "metadata": {},
   "outputs": [
    {
     "data": {
      "text/plain": [
       "array([2])"
      ]
     },
     "execution_count": 11,
     "metadata": {},
     "output_type": "execute_result"
    }
   ],
   "source": [
    "# 학습할 데이터를 입력 후 모델 생성하기\n",
    "from sklearn import tree\n",
    "\n",
    "# 학습 데이터\n",
    "# 귀모양, 수염길이, 입이 나옴, 호피무늬, 꼬리 길이\n",
    "x = [ [0,1,0,1,1], [0,1,0,0,0],[1,0,1,0,0]]\n",
    "# 정답 데이터\n",
    "y = [2,2,1]\n",
    "\n",
    "# 결정 트리에 의해 학습\n",
    "c = tree.DecisionTreeClassifier()\n",
    "c=c.fit(x,y)\n",
    "\n",
    "# 새로운 데이터를 생성한 학습 모델에 넣어 결과 예측하기\n",
    "c.predict([[1,1,0,0,1]])"
   ]
  },
  {
   "cell_type": "code",
   "execution_count": 12,
   "id": "abd0a222-78bf-4e5a-b525-210bec7cf1c1",
   "metadata": {},
   "outputs": [
    {
     "data": {
      "text/plain": [
       "array([1])"
      ]
     },
     "execution_count": 12,
     "metadata": {},
     "output_type": "execute_result"
    }
   ],
   "source": [
    "# 귀모양 원형, 수염길이 짧고, 입이 나오지 않았고, 호피무늬가 아니고, 꼬리가 짧은 동물\n",
    "c.predict([[1,0,0,0,0]])"
   ]
  },
  {
   "cell_type": "code",
   "execution_count": 13,
   "id": "a5d56031-15e8-40ea-9707-52bca4fab864",
   "metadata": {},
   "outputs": [
    {
     "data": {
      "text/plain": [
       "array([1])"
      ]
     },
     "execution_count": 13,
     "metadata": {},
     "output_type": "execute_result"
    }
   ],
   "source": [
    "# 귀모양 원형, 수염길이 짧고, 입이 나오고, 호피무늬고, 꼬리가 짧은 동물\n",
    "c.predict([[1,0,1,1,0]])"
   ]
  },
  {
   "cell_type": "code",
   "execution_count": 14,
   "id": "f683b2c3-5a7f-4107-bd94-54327b3f6b2c",
   "metadata": {},
   "outputs": [
    {
     "data": {
      "text/plain": [
       "array([2])"
      ]
     },
     "execution_count": 14,
     "metadata": {},
     "output_type": "execute_result"
    }
   ],
   "source": [
    "# 귀모양 원형, 수염길이 길고, 입이 나오고, 호피무늬가 아니고, 꼬리가 짧은 동물\n",
    "c.predict([[1,1,1,0,0]])"
   ]
  },
  {
   "cell_type": "code",
   "execution_count": 24,
   "id": "4e67be7e-35dc-4b8d-8fc1-15ae41abf1ee",
   "metadata": {},
   "outputs": [
    {
     "data": {
      "text/plain": [
       "array([2])"
      ]
     },
     "execution_count": 24,
     "metadata": {},
     "output_type": "execute_result"
    }
   ],
   "source": [
    "# page.250 mission\n",
    "from sklearn import tree\n",
    "\n",
    "\n",
    "# 1. 자녀의 키가 속하는 그룹을 예측하는 코드 작성하기\n",
    "# 3 : 키가 큰 키, 2 : 중간 키, 1 : 작은 키\n",
    "x = [ [180, 165], [175, 160], [180, 172], [165, 160], [171, 152] ]\n",
    "y = [ 3, 2, 2, 1, 1]\n",
    "\n",
    "z = tree.DecisionTreeClassifier()\n",
    "z = z.fit(x,y)\n",
    "z.predict([[175,153]])"
   ]
  },
  {
   "cell_type": "code",
   "execution_count": 21,
   "id": "f31ce9d8-4c07-49a1-a4b9-408091489f7f",
   "metadata": {},
   "outputs": [
    {
     "data": {
      "text/plain": [
       "array([2])"
      ]
     },
     "execution_count": 21,
     "metadata": {},
     "output_type": "execute_result"
    }
   ],
   "source": [
    "# 2. 자동차와 컵을 구분하는 코드 작성하기\n",
    "# 1 : 컵, 2 : 자동차\n",
    "a = [ [0,1,1,1,1], [1,1,1,1,0], [0,1,1,0,0] ]\n",
    "b = [1,2,2]\n",
    "\n",
    "c = tree.DecisionTreeClassifier()\n",
    "c = c.fit(a,b)\n",
    "c.predict([[0,1,1,1,0]])"
   ]
  },
  {
   "cell_type": "code",
   "execution_count": 22,
   "id": "2c4df8c5-1e58-4d46-9f52-951c468d924e",
   "metadata": {},
   "outputs": [
    {
     "data": {
      "text/plain": [
       "array([0])"
      ]
     },
     "execution_count": 22,
     "metadata": {},
     "output_type": "execute_result"
    }
   ],
   "source": [
    "# 3. 다이어트 방법이 건강한지 여부를 판단하는 코드 작성하기\n",
    "# 1: 건강, 0: 미흡\n",
    "h = [ [0, 0, 1, 1, 1, 1], [0, 0, 1, 0, 0, 1], [1, 1, 1, 1, 0, 0], [1, 1, 0, 1, 0, 0], [0, 0, 0, 0, 0, 1] ]\n",
    "j = [ 1, 1, 0, 0, 1]\n",
    "\n",
    "k = tree.DecisionTreeClassifier()\n",
    "k = k.fit(h,j)\n",
    "k.predict([[0,0,1,0,1,0]])"
   ]
  },
  {
   "cell_type": "code",
   "execution_count": 23,
   "id": "7bb8199c-3d31-4edc-b636-e78a4afaf520",
   "metadata": {},
   "outputs": [
    {
     "data": {
      "text/plain": [
       "array([0])"
      ]
     },
     "execution_count": 23,
     "metadata": {},
     "output_type": "execute_result"
    }
   ],
   "source": [
    "k.predict([[1,0,1,0,0,0]])"
   ]
  }
 ],
 "metadata": {
  "kernelspec": {
   "display_name": "Python 3 (ipykernel)",
   "language": "python",
   "name": "python3"
  },
  "language_info": {
   "codemirror_mode": {
    "name": "ipython",
    "version": 3
   },
   "file_extension": ".py",
   "mimetype": "text/x-python",
   "name": "python",
   "nbconvert_exporter": "python",
   "pygments_lexer": "ipython3",
   "version": "3.12.7"
  }
 },
 "nbformat": 4,
 "nbformat_minor": 5
}
